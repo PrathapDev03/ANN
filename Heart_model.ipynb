{
 "cells": [
  {
   "cell_type": "code",
   "execution_count": 19,
   "id": "fc2cc1ba-32e6-48d6-9a5b-a08d7d787edc",
   "metadata": {},
   "outputs": [],
   "source": [
    "import streamlit as st\n",
    "import numpy as np\n",
    "from tensorflow.keras.models import load_model"
   ]
  },
  {
   "cell_type": "code",
   "execution_count": 21,
   "id": "c2f128b6-d58f-49a3-a11c-1c9848a0e6ea",
   "metadata": {},
   "outputs": [
    {
     "name": "stderr",
     "output_type": "stream",
     "text": [
      "WARNING:absl:Compiled the loaded model, but the compiled metrics have yet to be built. `model.compile_metrics` will be empty until you train or evaluate the model.\n"
     ]
    }
   ],
   "source": [
    "# Load trained Keras model\n",
    "\n",
    "model = load_model(\"heart_attack_model.h5\")"
   ]
  },
  {
   "cell_type": "code",
   "execution_count": 27,
   "id": "cd474678-69cd-4d79-ac57-e43c968bf186",
   "metadata": {},
   "outputs": [],
   "source": [
    "\n",
    "st.set_page_config(page_title=\"Heart Attack Risk Prediction\", layout=\"centered\")\n",
    "st.title(\"💓 Heart Attack Risk Prediction\")\n",
    "\n",
    "st.markdown(\"Enter the patient's health and lifestyle details below:\")\n",
    "\n",
    "with st.form(\"health_form\"):\n",
    "    age = st.slider(\"Age\", 20, 100, 50)\n",
    "    gender = st.selectbox(\"Gender\", [0, 1], format_func=lambda x: \"Male\" if x == 1 else \"Female\")\n",
    "    smoking = st.selectbox(\"Smoking Status\", [0, 1], format_func=lambda x: \"Smoker\" if x == 1 else \"Non-Smoker\")\n",
    "    hypertension = st.selectbox(\"Hypertension\", [0, 1])\n",
    "    diabetes = st.selectbox(\"Diabetes\", [0, 1])\n",
    "    obesity = st.selectbox(\"Obesity\", [0, 1])\n",
    "    cholesterol = st.slider(\"Cholesterol Level\", 100, 400, 200)\n",
    "    pollution = st.slider(\"Air Pollution Exposure\", 0, 100, 50)\n",
    "    physical_activity = st.slider(\"Physical Activity (hrs/week)\", 0, 20, 5)\n",
    "    diet_score = st.slider(\"Diet Score (0–10)\", 0, 10, 5)\n",
    "    stress = st.slider(\"Stress Level (0–10)\", 0, 10, 5)\n",
    "    alcohol = st.selectbox(\"Alcohol Consumption\", [0, 1])\n",
    "    family_history = st.selectbox(\"Family History of CVD\", [0, 1])\n",
    "    healthcare_access = st.selectbox(\"Healthcare Access (0 = Poor, 1 = Good)\", [0, 1])\n",
    "    rural_urban = st.selectbox(\"Rural or Urban (0 = Rural, 1 = Urban)\", [0, 1])\n",
    "    region = st.selectbox(\"Region (e.g. 0–4)\", [0, 1, 2, 3, 4])\n",
    "    province = st.selectbox(\"Province (e.g. 0–9)\", list(range(10)))\n",
    "    hospital_availability = st.selectbox(\"Hospital Availability\", [0, 1])\n",
    "    tcm_use = st.selectbox(\"Traditional Chinese Medicine Use\", [0, 1])\n",
    "    employment = st.selectbox(\"Employment Status (0 = Unemployed, 1 = Employed)\", [0, 1])\n",
    "    income = st.slider(\"Income Level\", 0, 100000, 50000)\n",
    "    bp = st.slider(\"Blood Pressure\", 80, 200, 120)\n",
    "    ckd = st.selectbox(\"Chronic Kidney Disease\", [0, 1])\n",
    "    prev_heart_attack = st.selectbox(\"Previous Heart Attack\", [0, 1])\n",
    "    cvd_score = st.slider(\"CVD Risk Score (0–100)\", 0, 100, 50)\n",
    "\n",
    "    submit = st.form_submit_button(\"🔍 Predict\")\n",
    "\n",
    "if submit:\n",
    "    input_data = np.array([[age, gender, smoking, hypertension, diabetes, obesity,\n",
    "                            cholesterol, pollution, physical_activity, diet_score,\n",
    "                            stress, alcohol, family_history, healthcare_access,\n",
    "                            rural_urban, region, province, hospital_availability,\n",
    "                            tcm_use, employment, income, bp, ckd, prev_heart_attack,\n",
    "                            cvd_score]])\n",
    "\n",
    "    prediction = model.predict(input_data)[0][0]\n",
    "\n",
    "    st.subheader(\"🔎 Prediction Result\")\n",
    "    if prediction > 0.5:\n",
    "        st.error(f\"⚠️ High Risk of Heart Attack (Risk Score: {prediction:.2f})\")\n",
    "    else:\n",
    "        st.success(f\"✅ Low Risk of Heart Attack (Risk Score: {prediction:.2f})\")\n"
   ]
  },
  {
   "cell_type": "code",
   "execution_count": null,
   "id": "2c141d4d-9229-4762-857a-ce71a7e07dba",
   "metadata": {},
   "outputs": [],
   "source": []
  }
 ],
 "metadata": {
  "kernelspec": {
   "display_name": "Python [conda env:base] *",
   "language": "python",
   "name": "conda-base-py"
  },
  "language_info": {
   "codemirror_mode": {
    "name": "ipython",
    "version": 3
   },
   "file_extension": ".py",
   "mimetype": "text/x-python",
   "name": "python",
   "nbconvert_exporter": "python",
   "pygments_lexer": "ipython3",
   "version": "3.12.7"
  }
 },
 "nbformat": 4,
 "nbformat_minor": 5
}
